{
 "cells": [
  {
   "cell_type": "code",
   "execution_count": 2,
   "id": "12451ed4",
   "metadata": {},
   "outputs": [
    {
     "name": "stdout",
     "output_type": "stream",
     "text": [
      "Defaulting to user installation because normal site-packages is not writeable\n",
      "Looking in indexes: https://pypi.yandex-team.ru/simple\n",
      "Collecting fake-useragent\n",
      "  Downloading https://pypi.yandex-team.ru/repo/default/download/fake-useragent/1378074/fake_useragent-1.5.1-py3-none-any.whl (17 kB)\n",
      "Requirement already satisfied: importlib-metadata~=4.0 in /usr/local/lib/python3.7/dist-packages (from fake-useragent) (4.13.0)\n",
      "Requirement already satisfied: importlib-resources>=5.0 in /usr/local/lib/python3.7/dist-packages (from fake-useragent) (5.10.2)\n",
      "Requirement already satisfied: typing-extensions>=3.6.4 in /usr/local/lib/python3.7/dist-packages (from importlib-metadata~=4.0->fake-useragent) (4.4.0)\n",
      "Requirement already satisfied: zipp>=0.5 in /usr/local/lib/python3.7/dist-packages (from importlib-metadata~=4.0->fake-useragent) (3.11.0)\n",
      "Installing collected packages: fake-useragent\n",
      "Successfully installed fake-useragent-1.5.1\n",
      "Note: you may need to restart the kernel to use updated packages.\n"
     ]
    }
   ],
   "source": [
    "pip install fake-useragent"
   ]
  },
  {
   "cell_type": "code",
   "execution_count": 3,
   "id": "6193b00e",
   "metadata": {},
   "outputs": [],
   "source": [
    "from fake_useragent import UserAgent\n",
    "import requests \n",
    "\n",
    "\n",
    "page_link = 'https://ling.tspu.edu.ru/archive.html'\n",
    "response = requests.get(page_link, headers={'User-Agent': UserAgent().chrome})"
   ]
  },
  {
   "cell_type": "code",
   "execution_count": 8,
   "id": "3e9cfab0",
   "metadata": {},
   "outputs": [],
   "source": [
    "from bs4 import BeautifulSoup\n",
    "\n",
    "soup = BeautifulSoup(response.content,'html.parser')"
   ]
  },
  {
   "cell_type": "code",
   "execution_count": 28,
   "id": "7aa48401",
   "metadata": {},
   "outputs": [],
   "source": [
    "import time"
   ]
  },
  {
   "cell_type": "code",
   "execution_count": 41,
   "id": "c951f338",
   "metadata": {},
   "outputs": [],
   "source": [
    "articles = []"
   ]
  },
  {
   "cell_type": "code",
   "execution_count": 31,
   "id": "ef7f53b1",
   "metadata": {},
   "outputs": [],
   "source": [
    "from tqdm import tqdm"
   ]
  },
  {
   "cell_type": "code",
   "execution_count": 42,
   "id": "a704ee4c",
   "metadata": {},
   "outputs": [
    {
     "name": "stderr",
     "output_type": "stream",
     "text": [
      "100%|██████████| 43/43 [23:19<00:00, 32.54s/it]\n"
     ]
    }
   ],
   "source": [
    "for btn in tqdm(soup.find_all('input', {'class': 'issue_button btn'})):\n",
    "    year, issue = btn['id'].split('_')[-2:]\n",
    "    issue_link = f'https://ling.tspu.edu.ru/archive?year={year}&issue={issue}&format=html'\n",
    "    issue_response = requests.get(issue_link, headers={'User-Agent': UserAgent().chrome})\n",
    "    time.sleep(2)\n",
    "    issue_soup = BeautifulSoup(issue_response.content,'html.parser')\n",
    "    for article in issue_soup.find_all('tr', {'class': 'article'}):\n",
    "        article_link = article.find('a')['href']\n",
    "        article_response = requests.get(article_link, headers={'User-Agent': UserAgent().chrome})\n",
    "        time.sleep(2)\n",
    "        article_soup = BeautifulSoup(article_response.content,'html.parser')\n",
    "        articles.append({\n",
    "            'year': year,\n",
    "            'title': article_soup.find('h1', {'class': 'title'}).text,\n",
    "            'authors': article_soup.find('p', {'class': 'authors'}).text,\n",
    "            'abstract': article_soup.find('p', {'class': 'anotation'}).text,\n",
    "            'journal_title': 'Томский журнал лингвистических и антропологических исследований'\n",
    "        })"
   ]
  },
  {
   "cell_type": "code",
   "execution_count": 46,
   "id": "b8f3b431",
   "metadata": {},
   "outputs": [],
   "source": [
    "import pandas as pd\n",
    "pd.DataFrame(articles).to_csv('tspu.csv')"
   ]
  }
 ],
 "metadata": {
  "kernelspec": {
   "display_name": "Python 3",
   "language": "python",
   "name": "python3"
  },
  "language_info": {
   "codemirror_mode": {
    "name": "ipython",
    "version": 3
   },
   "file_extension": ".py",
   "mimetype": "text/x-python",
   "name": "python",
   "nbconvert_exporter": "python",
   "pygments_lexer": "ipython3",
   "version": "3.7.5"
  }
 },
 "nbformat": 4,
 "nbformat_minor": 5
}
